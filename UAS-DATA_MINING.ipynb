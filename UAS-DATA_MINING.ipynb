{
 "cells": [
  {
   "cell_type": "code",
   "execution_count": 13,
   "id": "1e8e65ed-61f2-4563-b28b-8e68da84439f",
   "metadata": {},
   "outputs": [],
   "source": [
    "## Reference Video: https://www.youtube.com/watch?v=rnEVuOjjbmE&list=PLgTkNlNsy9gXoMB2-YO_Tuu94mctmu2h7&index=6\n",
    "## Pyhton Marix Libraries\n",
    "\n",
    "## Numpy\n",
    "import numpy as np\n",
    "\n",
    "## Pandas\n",
    "import pandas as pd\n"
   ]
  },
  {
   "cell_type": "code",
   "execution_count": 103,
   "id": "4b58ea0f-d69d-44b5-9af0-69afb04c0765",
   "metadata": {},
   "outputs": [
    {
     "data": {
      "text/plain": [
       "array([[1, 2, 3],\n",
       "       [4, 5, 6]])"
      ]
     },
     "execution_count": 103,
     "metadata": {},
     "output_type": "execute_result"
    }
   ],
   "source": [
    "A = np.array([ [1,2,3], [4, 5, 6] ])\n",
    "\n",
    "A"
   ]
  },
  {
   "cell_type": "code",
   "execution_count": 105,
   "id": "6d067e0b-086f-4e2e-9214-bec1fd09ba7e",
   "metadata": {},
   "outputs": [
    {
     "data": {
      "text/plain": [
       "array([[1, 2, 3],\n",
       "       [4, 5, 6]])"
      ]
     },
     "execution_count": 105,
     "metadata": {},
     "output_type": "execute_result"
    }
   ],
   "source": [
    "A.T.T"
   ]
  },
  {
   "cell_type": "code",
   "execution_count": 71,
   "id": "91cba094-7c12-45a5-b4c8-f076a13adcbe",
   "metadata": {},
   "outputs": [
    {
     "data": {
      "text/plain": [
       "array([[ 50,  68],\n",
       "       [122, 167]])"
      ]
     },
     "execution_count": 71,
     "metadata": {},
     "output_type": "execute_result"
    }
   ],
   "source": [
    "B=np.array([ [7,8,9], [10,11,12] ])\n",
    "\n",
    "np.dot(A, B.T)"
   ]
  },
  {
   "cell_type": "code",
   "execution_count": 73,
   "id": "c75be174-b46b-43ec-b431-83d474825c10",
   "metadata": {},
   "outputs": [
    {
     "data": {
      "text/plain": [
       "array([[ 1,  4,  9],\n",
       "       [16, 25, 36]])"
      ]
     },
     "execution_count": 73,
     "metadata": {},
     "output_type": "execute_result"
    }
   ],
   "source": [
    "C = A**2\n",
    "C"
   ]
  },
  {
   "cell_type": "code",
   "execution_count": 75,
   "id": "c593cca3-b1d6-4276-bf6a-aa9628fc2722",
   "metadata": {},
   "outputs": [
    {
     "data": {
      "text/plain": [
       "array([[0, 1, 2],\n",
       "       [3, 4, 5]])"
      ]
     },
     "execution_count": 75,
     "metadata": {},
     "output_type": "execute_result"
    }
   ],
   "source": [
    "D = A-1\n",
    "D"
   ]
  },
  {
   "cell_type": "code",
   "execution_count": 77,
   "id": "44bd5e5e-86e9-4c87-bf13-08e0f550ae73",
   "metadata": {},
   "outputs": [
    {
     "data": {
      "text/plain": [
       "array([[1, 2, 3],\n",
       "       [1, 2, 3],\n",
       "       [3, 4, 5]])"
      ]
     },
     "execution_count": 77,
     "metadata": {},
     "output_type": "execute_result"
    }
   ],
   "source": [
    "C2 = np.array([[1,2,3], [1,2,3], [3,4,5]])\n",
    "C2"
   ]
  },
  {
   "cell_type": "code",
   "execution_count": 81,
   "id": "c103d514-0aab-4af6-a75b-2cc3ca9cc3b4",
   "metadata": {},
   "outputs": [
    {
     "data": {
      "text/plain": [
       "array([1, 2, 5])"
      ]
     },
     "execution_count": 81,
     "metadata": {},
     "output_type": "execute_result"
    }
   ],
   "source": [
    "C2.diagonal()"
   ]
  },
  {
   "cell_type": "code",
   "execution_count": 107,
   "id": "62d36383-d122-4dfd-b3cd-32ff0460b9db",
   "metadata": {},
   "outputs": [
    {
     "data": {
      "text/plain": [
       "numpy.matrix"
      ]
     },
     "execution_count": 107,
     "metadata": {},
     "output_type": "execute_result"
    }
   ],
   "source": [
    "A=np.matrix(A)\n",
    "type(A)"
   ]
  },
  {
   "cell_type": "code",
   "execution_count": 87,
   "id": "52e39fc4-3dcb-44db-a343-0f37b7a06e24",
   "metadata": {},
   "outputs": [],
   "source": [
    "B=np.matrix(B)"
   ]
  },
  {
   "cell_type": "code",
   "execution_count": 99,
   "id": "fc44f3d6-e2bf-4fb0-b87f-64e7b3f95535",
   "metadata": {},
   "outputs": [],
   "source": [
    "C=np.matrix(C)"
   ]
  },
  {
   "cell_type": "code",
   "execution_count": 109,
   "id": "1782de39-fc8f-4350-a1c8-28a326b40602",
   "metadata": {},
   "outputs": [
    {
     "data": {
      "text/plain": [
       "matrix([[1, 2, 3],\n",
       "        [4, 5, 6]])"
      ]
     },
     "execution_count": 109,
     "metadata": {},
     "output_type": "execute_result"
    }
   ],
   "source": [
    "A"
   ]
  },
  {
   "cell_type": "code",
   "execution_count": 113,
   "id": "2b8dcd92-a60c-4c7e-9f50-334956e7d81d",
   "metadata": {},
   "outputs": [
    {
     "data": {
      "text/plain": [
       "(array([0, 0, 0, 1, 1, 1], dtype=int64),\n",
       " array([0, 1, 2, 0, 1, 2], dtype=int64))"
      ]
     },
     "execution_count": 113,
     "metadata": {},
     "output_type": "execute_result"
    }
   ],
   "source": [
    "A.nonzero()"
   ]
  },
  {
   "cell_type": "code",
   "execution_count": 111,
   "id": "fd5567ec-457b-479c-82b1-19d31828a1f8",
   "metadata": {},
   "outputs": [
    {
     "data": {
      "text/plain": [
       "matrix([[-6, -6, -6],\n",
       "        [-6, -6, -6]])"
      ]
     },
     "execution_count": 111,
     "metadata": {},
     "output_type": "execute_result"
    }
   ],
   "source": [
    "A-B"
   ]
  },
  {
   "cell_type": "code",
   "execution_count": 115,
   "id": "72af8ecb-b963-4ef3-a834-52b6f9c6ab24",
   "metadata": {},
   "outputs": [
    {
     "data": {
      "text/plain": [
       "matrix([[ 8, 10, 12],\n",
       "        [14, 16, 18]])"
      ]
     },
     "execution_count": 115,
     "metadata": {},
     "output_type": "execute_result"
    }
   ],
   "source": [
    "A+B"
   ]
  },
  {
   "cell_type": "code",
   "execution_count": 119,
   "id": "17ee9538-e4a3-43a2-9a7e-80355f8851e8",
   "metadata": {},
   "outputs": [
    {
     "data": {
      "text/plain": [
       "matrix([[ 50,  68],\n",
       "        [122, 167]])"
      ]
     },
     "execution_count": 119,
     "metadata": {},
     "output_type": "execute_result"
    }
   ],
   "source": [
    "A.dot(B.T)"
   ]
  },
  {
   "cell_type": "code",
   "execution_count": 121,
   "id": "81849a9b-06b8-44a6-b0b0-e00dd5d34ee3",
   "metadata": {},
   "outputs": [
    {
     "data": {
      "text/plain": [
       "21"
      ]
     },
     "execution_count": 121,
     "metadata": {},
     "output_type": "execute_result"
    }
   ],
   "source": [
    "A.sum()"
   ]
  },
  {
   "cell_type": "code",
   "execution_count": null,
   "id": "845dbe18-4ef6-47f9-97d9-22fd1dfb70c2",
   "metadata": {},
   "outputs": [],
   "source": []
  }
 ],
 "metadata": {
  "kernelspec": {
   "display_name": "Python 3 (ipykernel)",
   "language": "python",
   "name": "python3"
  },
  "language_info": {
   "codemirror_mode": {
    "name": "ipython",
    "version": 3
   },
   "file_extension": ".py",
   "mimetype": "text/x-python",
   "name": "python",
   "nbconvert_exporter": "python",
   "pygments_lexer": "ipython3",
   "version": "3.12.4"
  }
 },
 "nbformat": 4,
 "nbformat_minor": 5
}
